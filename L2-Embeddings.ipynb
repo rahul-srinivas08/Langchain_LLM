{
 "cells": [
  {
   "cell_type": "markdown",
   "id": "11cc2042",
   "metadata": {},
   "source": [
    "# Lesson 2: Embeddings"
   ]
  },
  {
   "cell_type": "markdown",
   "id": "14c47bc7",
   "metadata": {},
   "source": [
    "### Setup\n",
    "Load needed API keys and relevant Python libaries."
   ]
  },
  {
   "cell_type": "code",
   "execution_count": null,
   "id": "8831c1e6",
   "metadata": {
    "height": 30
   },
   "outputs": [],
   "source": [
    "# !pip install cohere umap-learn altair datasets"
   ]
  },
  {
   "cell_type": "code",
   "execution_count": 1,
   "id": "23d4483b",
   "metadata": {
    "height": 64
   },
   "outputs": [],
   "source": [
    "import os\n",
    "from dotenv import load_dotenv, find_dotenv\n",
    "_ = load_dotenv(find_dotenv()) # read local .env file"
   ]
  },
  {
   "cell_type": "code",
   "execution_count": 2,
   "id": "14cee683",
   "metadata": {
    "height": 47
   },
   "outputs": [],
   "source": [
    "import cohere\n",
    "co = cohere.Client(os.environ['COHERE_API_KEY'])"
   ]
  },
  {
   "cell_type": "code",
   "execution_count": 3,
   "id": "7cd186b9",
   "metadata": {
    "height": 30
   },
   "outputs": [],
   "source": [
    "import pandas as pd"
   ]
  },
  {
   "cell_type": "markdown",
   "id": "a66e9572",
   "metadata": {},
   "source": [
    "## Word Embeddings\n",
    "\n",
    "Consider a very small dataset of three words."
   ]
  },
  {
   "cell_type": "code",
   "execution_count": 4,
   "id": "3ab6a806",
   "metadata": {
    "height": 149
   },
   "outputs": [
    {
     "data": {
      "text/html": [
       "<div>\n",
       "<style scoped>\n",
       "    .dataframe tbody tr th:only-of-type {\n",
       "        vertical-align: middle;\n",
       "    }\n",
       "\n",
       "    .dataframe tbody tr th {\n",
       "        vertical-align: top;\n",
       "    }\n",
       "\n",
       "    .dataframe thead th {\n",
       "        text-align: right;\n",
       "    }\n",
       "</style>\n",
       "<table border=\"1\" class=\"dataframe\">\n",
       "  <thead>\n",
       "    <tr style=\"text-align: right;\">\n",
       "      <th></th>\n",
       "      <th>text</th>\n",
       "    </tr>\n",
       "  </thead>\n",
       "  <tbody>\n",
       "    <tr>\n",
       "      <th>0</th>\n",
       "      <td>joy</td>\n",
       "    </tr>\n",
       "    <tr>\n",
       "      <th>1</th>\n",
       "      <td>happiness</td>\n",
       "    </tr>\n",
       "    <tr>\n",
       "      <th>2</th>\n",
       "      <td>potato</td>\n",
       "    </tr>\n",
       "  </tbody>\n",
       "</table>\n",
       "</div>"
      ],
      "text/plain": [
       "        text\n",
       "0        joy\n",
       "1  happiness\n",
       "2     potato"
      ]
     },
     "execution_count": 4,
     "metadata": {},
     "output_type": "execute_result"
    }
   ],
   "source": [
    "three_words = pd.DataFrame({'text':\n",
    "  [\n",
    "      'joy',\n",
    "      'happiness',\n",
    "      'potato'\n",
    "  ]})\n",
    "\n",
    "three_words"
   ]
  },
  {
   "cell_type": "markdown",
   "id": "e27c4adb",
   "metadata": {},
   "source": [
    "Let's create the embeddings for the three words:"
   ]
  },
  {
   "cell_type": "code",
   "execution_count": 5,
   "id": "22d30ec7",
   "metadata": {
    "height": 47
   },
   "outputs": [],
   "source": [
    "three_words_emb = co.embed(texts=list(three_words['text']),\n",
    "                           model='embed-english-v2.0').embeddings"
   ]
  },
  {
   "cell_type": "code",
   "execution_count": 6,
   "id": "5f179777",
   "metadata": {
    "height": 64
   },
   "outputs": [],
   "source": [
    "word_1 = three_words_emb[0]\n",
    "word_2 = three_words_emb[1]\n",
    "word_3 = three_words_emb[2]"
   ]
  },
  {
   "cell_type": "code",
   "execution_count": 7,
   "id": "69da1290",
   "metadata": {
    "height": 30
   },
   "outputs": [
    {
     "data": {
      "text/plain": [
       "[2.3203125,\n",
       " -0.18334961,\n",
       " -0.578125,\n",
       " -0.7314453,\n",
       " -2.2050781,\n",
       " -2.59375,\n",
       " 0.35205078,\n",
       " -1.6220703,\n",
       " 0.27954102,\n",
       " 0.3083496]"
      ]
     },
     "execution_count": 7,
     "metadata": {},
     "output_type": "execute_result"
    }
   ],
   "source": [
    "word_1[:10]"
   ]
  },
  {
   "cell_type": "markdown",
   "id": "81adb0d9",
   "metadata": {},
   "source": [
    "## Sentence Embeddings"
   ]
  },
  {
   "cell_type": "markdown",
   "id": "575da3a8",
   "metadata": {},
   "source": [
    "Consider a very small dataset of three sentences."
   ]
  },
  {
   "cell_type": "code",
   "execution_count": 8,
   "id": "ca6539bc",
   "metadata": {
    "height": 234
   },
   "outputs": [
    {
     "data": {
      "text/html": [
       "<div>\n",
       "<style scoped>\n",
       "    .dataframe tbody tr th:only-of-type {\n",
       "        vertical-align: middle;\n",
       "    }\n",
       "\n",
       "    .dataframe tbody tr th {\n",
       "        vertical-align: top;\n",
       "    }\n",
       "\n",
       "    .dataframe thead th {\n",
       "        text-align: right;\n",
       "    }\n",
       "</style>\n",
       "<table border=\"1\" class=\"dataframe\">\n",
       "  <thead>\n",
       "    <tr style=\"text-align: right;\">\n",
       "      <th></th>\n",
       "      <th>text</th>\n",
       "    </tr>\n",
       "  </thead>\n",
       "  <tbody>\n",
       "    <tr>\n",
       "      <th>0</th>\n",
       "      <td>Where is the world cup?</td>\n",
       "    </tr>\n",
       "    <tr>\n",
       "      <th>1</th>\n",
       "      <td>The world cup is in Qatar</td>\n",
       "    </tr>\n",
       "    <tr>\n",
       "      <th>2</th>\n",
       "      <td>What color is the sky?</td>\n",
       "    </tr>\n",
       "    <tr>\n",
       "      <th>3</th>\n",
       "      <td>The sky is blue</td>\n",
       "    </tr>\n",
       "    <tr>\n",
       "      <th>4</th>\n",
       "      <td>Where does the bear live?</td>\n",
       "    </tr>\n",
       "    <tr>\n",
       "      <th>5</th>\n",
       "      <td>The bear lives in the the woods</td>\n",
       "    </tr>\n",
       "    <tr>\n",
       "      <th>6</th>\n",
       "      <td>What is an apple?</td>\n",
       "    </tr>\n",
       "    <tr>\n",
       "      <th>7</th>\n",
       "      <td>An apple is a fruit</td>\n",
       "    </tr>\n",
       "  </tbody>\n",
       "</table>\n",
       "</div>"
      ],
      "text/plain": [
       "                              text\n",
       "0          Where is the world cup?\n",
       "1        The world cup is in Qatar\n",
       "2           What color is the sky?\n",
       "3                  The sky is blue\n",
       "4        Where does the bear live?\n",
       "5  The bear lives in the the woods\n",
       "6                What is an apple?\n",
       "7              An apple is a fruit"
      ]
     },
     "execution_count": 8,
     "metadata": {},
     "output_type": "execute_result"
    }
   ],
   "source": [
    "sentences = pd.DataFrame({'text':\n",
    "  [\n",
    "   'Where is the world cup?',\n",
    "   'The world cup is in Qatar',\n",
    "   'What color is the sky?',\n",
    "   'The sky is blue',\n",
    "   'Where does the bear live?',\n",
    "   'The bear lives in the the woods',\n",
    "   'What is an apple?',\n",
    "   'An apple is a fruit',\n",
    "  ]})\n",
    "\n",
    "sentences"
   ]
  },
  {
   "cell_type": "markdown",
   "id": "05733ed4",
   "metadata": {},
   "source": [
    "Let's create the embeddings for the three sentences:"
   ]
  },
  {
   "cell_type": "code",
   "execution_count": 9,
   "id": "ef89a105",
   "metadata": {
    "height": 115
   },
   "outputs": [
    {
     "name": "stdout",
     "output_type": "stream",
     "text": [
      "[0.27319336, -0.37768555, -1.0273438]\n",
      "[0.49804688, 1.2236328, 0.4074707]\n",
      "[-0.23571777, -0.9375, 0.9614258]\n",
      "[0.08300781, -0.32080078, 0.9272461]\n",
      "[0.49780273, -0.35058594, -1.6171875]\n",
      "[1.2294922, -1.3779297, -1.8378906]\n",
      "[0.15686035, -0.92041016, 1.5996094]\n",
      "[1.0761719, -0.7211914, 0.9296875]\n"
     ]
    }
   ],
   "source": [
    "emb = co.embed(texts=list(sentences['text']),\n",
    "               model='embed-english-v2.0').embeddings\n",
    "\n",
    "# Explore the 10 first entries of the embeddings of the 3 sentences:\n",
    "for e in emb:\n",
    "    print(e[:3])"
   ]
  },
  {
   "cell_type": "code",
   "execution_count": 10,
   "id": "2c33c078",
   "metadata": {
    "height": 30
   },
   "outputs": [
    {
     "data": {
      "text/plain": [
       "4096"
      ]
     },
     "execution_count": 10,
     "metadata": {},
     "output_type": "execute_result"
    }
   ],
   "source": [
    "len(emb[0])"
   ]
  },
  {
   "cell_type": "code",
   "execution_count": 11,
   "id": "a2b96e44",
   "metadata": {
    "height": 47
   },
   "outputs": [],
   "source": [
    "#import umap\n",
    "#import altair as alt"
   ]
  },
  {
   "cell_type": "code",
   "execution_count": 12,
   "id": "eeb8c945",
   "metadata": {
    "height": 30
   },
   "outputs": [
    {
     "name": "stderr",
     "output_type": "stream",
     "text": [
      "/usr/local/lib/python3.9/site-packages/umap/distances.py:1063: NumbaDeprecationWarning: The 'nopython' keyword argument was not supplied to the 'numba.jit' decorator. The implicit default value for this argument is currently False, but it will be changed to True in Numba 0.59.0. See https://numba.readthedocs.io/en/stable/reference/deprecation.html#deprecation-of-object-mode-fall-back-behaviour-when-using-jit for details.\n",
      "  @numba.jit()\n",
      "/usr/local/lib/python3.9/site-packages/umap/distances.py:1071: NumbaDeprecationWarning: The 'nopython' keyword argument was not supplied to the 'numba.jit' decorator. The implicit default value for this argument is currently False, but it will be changed to True in Numba 0.59.0. See https://numba.readthedocs.io/en/stable/reference/deprecation.html#deprecation-of-object-mode-fall-back-behaviour-when-using-jit for details.\n",
      "  @numba.jit()\n",
      "/usr/local/lib/python3.9/site-packages/umap/distances.py:1086: NumbaDeprecationWarning: The 'nopython' keyword argument was not supplied to the 'numba.jit' decorator. The implicit default value for this argument is currently False, but it will be changed to True in Numba 0.59.0. See https://numba.readthedocs.io/en/stable/reference/deprecation.html#deprecation-of-object-mode-fall-back-behaviour-when-using-jit for details.\n",
      "  @numba.jit()\n",
      "/usr/local/lib/python3.9/site-packages/umap/umap_.py:660: NumbaDeprecationWarning: The 'nopython' keyword argument was not supplied to the 'numba.jit' decorator. The implicit default value for this argument is currently False, but it will be changed to True in Numba 0.59.0. See https://numba.readthedocs.io/en/stable/reference/deprecation.html#deprecation-of-object-mode-fall-back-behaviour-when-using-jit for details.\n",
      "  @numba.jit()\n"
     ]
    }
   ],
   "source": [
    "from utils import umap_plot"
   ]
  },
  {
   "cell_type": "code",
   "execution_count": 13,
   "id": "de8a8509",
   "metadata": {
    "height": 30
   },
   "outputs": [],
   "source": [
    "chart = umap_plot(sentences, emb)"
   ]
  },
  {
   "cell_type": "code",
   "execution_count": 14,
   "id": "93a581c4",
   "metadata": {
    "height": 30
   },
   "outputs": [
    {
     "data": {
      "text/html": [
       "\n",
       "<style>\n",
       "  #altair-viz-3cdc88ee4e144e4e8b0978b69ac895dd.vega-embed {\n",
       "    width: 100%;\n",
       "    display: flex;\n",
       "  }\n",
       "\n",
       "  #altair-viz-3cdc88ee4e144e4e8b0978b69ac895dd.vega-embed details,\n",
       "  #altair-viz-3cdc88ee4e144e4e8b0978b69ac895dd.vega-embed details summary {\n",
       "    position: relative;\n",
       "  }\n",
       "</style>\n",
       "<div id=\"altair-viz-3cdc88ee4e144e4e8b0978b69ac895dd\"></div>\n",
       "<script type=\"text/javascript\">\n",
       "  var VEGA_DEBUG = (typeof VEGA_DEBUG == \"undefined\") ? {} : VEGA_DEBUG;\n",
       "  (function(spec, embedOpt){\n",
       "    let outputDiv = document.currentScript.previousElementSibling;\n",
       "    if (outputDiv.id !== \"altair-viz-3cdc88ee4e144e4e8b0978b69ac895dd\") {\n",
       "      outputDiv = document.getElementById(\"altair-viz-3cdc88ee4e144e4e8b0978b69ac895dd\");\n",
       "    }\n",
       "    const paths = {\n",
       "      \"vega\": \"https://cdn.jsdelivr.net/npm/vega@5?noext\",\n",
       "      \"vega-lib\": \"https://cdn.jsdelivr.net/npm/vega-lib?noext\",\n",
       "      \"vega-lite\": \"https://cdn.jsdelivr.net/npm/vega-lite@5.8.0?noext\",\n",
       "      \"vega-embed\": \"https://cdn.jsdelivr.net/npm/vega-embed@6?noext\",\n",
       "    };\n",
       "\n",
       "    function maybeLoadScript(lib, version) {\n",
       "      var key = `${lib.replace(\"-\", \"\")}_version`;\n",
       "      return (VEGA_DEBUG[key] == version) ?\n",
       "        Promise.resolve(paths[lib]) :\n",
       "        new Promise(function(resolve, reject) {\n",
       "          var s = document.createElement('script');\n",
       "          document.getElementsByTagName(\"head\")[0].appendChild(s);\n",
       "          s.async = true;\n",
       "          s.onload = () => {\n",
       "            VEGA_DEBUG[key] = version;\n",
       "            return resolve(paths[lib]);\n",
       "          };\n",
       "          s.onerror = () => reject(`Error loading script: ${paths[lib]}`);\n",
       "          s.src = paths[lib];\n",
       "        });\n",
       "    }\n",
       "\n",
       "    function showError(err) {\n",
       "      outputDiv.innerHTML = `<div class=\"error\" style=\"color:red;\">${err}</div>`;\n",
       "      throw err;\n",
       "    }\n",
       "\n",
       "    function displayChart(vegaEmbed) {\n",
       "      vegaEmbed(outputDiv, spec, embedOpt)\n",
       "        .catch(err => showError(`Javascript Error: ${err.message}<br>This usually means there's a typo in your chart specification. See the javascript console for the full traceback.`));\n",
       "    }\n",
       "\n",
       "    if(typeof define === \"function\" && define.amd) {\n",
       "      requirejs.config({paths});\n",
       "      require([\"vega-embed\"], displayChart, err => showError(`Error loading script: ${err.message}`));\n",
       "    } else {\n",
       "      maybeLoadScript(\"vega\", \"5\")\n",
       "        .then(() => maybeLoadScript(\"vega-lite\", \"5.8.0\"))\n",
       "        .then(() => maybeLoadScript(\"vega-embed\", \"6\"))\n",
       "        .catch(showError)\n",
       "        .then(() => displayChart(vegaEmbed));\n",
       "    }\n",
       "  })({\"config\": {\"view\": {\"continuousWidth\": 300, \"continuousHeight\": 300}}, \"data\": {\"name\": \"data-aac8f6bc5097369b454fd417f2145af8\"}, \"mark\": {\"type\": \"circle\", \"size\": 60}, \"encoding\": {\"tooltip\": [{\"field\": \"text\", \"type\": \"nominal\"}], \"x\": {\"field\": \"x\", \"scale\": {\"zero\": false}, \"type\": \"quantitative\"}, \"y\": {\"field\": \"y\", \"scale\": {\"zero\": false}, \"type\": \"quantitative\"}}, \"height\": 400, \"params\": [{\"name\": \"param_1\", \"select\": {\"type\": \"interval\", \"encodings\": [\"x\", \"y\"]}, \"bind\": \"scales\"}], \"width\": 700, \"$schema\": \"https://vega.github.io/schema/vega-lite/v5.8.0.json\", \"datasets\": {\"data-aac8f6bc5097369b454fd417f2145af8\": [{\"text\": \"Where is the world cup?\", \"x\": 4.279483318328857, \"y\": 1.7566536664962769}, {\"text\": \"The world cup is in Qatar\", \"x\": 4.556717872619629, \"y\": 2.033917188644409}, {\"text\": \"What color is the sky?\", \"x\": 13.129149436950684, \"y\": 19.11087989807129}, {\"text\": \"The sky is blue\", \"x\": 13.42840576171875, \"y\": 19.410120010375977}, {\"text\": \"Where does the bear live?\", \"x\": -1.3673968315124512, \"y\": -0.358432799577713}, {\"text\": \"The bear lives in the the woods\", \"x\": -1.1046808958053589, \"y\": -0.09528280794620514}, {\"text\": \"What is an apple?\", \"x\": 13.298911094665527, \"y\": -12.857613563537598}, {\"text\": \"An apple is a fruit\", \"x\": 13.660202980041504, \"y\": -13.218912124633789}]}}, {\"mode\": \"vega-lite\"});\n",
       "</script>"
      ],
      "text/plain": [
       "alt.Chart(...)"
      ]
     },
     "execution_count": 14,
     "metadata": {},
     "output_type": "execute_result"
    }
   ],
   "source": [
    "chart.interactive()"
   ]
  },
  {
   "cell_type": "markdown",
   "id": "3cfb0192",
   "metadata": {},
   "source": [
    "## Articles Embeddings"
   ]
  },
  {
   "cell_type": "code",
   "execution_count": 15,
   "id": "dfff2ced",
   "metadata": {
    "height": 64
   },
   "outputs": [
    {
     "data": {
      "text/html": [
       "<div>\n",
       "<style scoped>\n",
       "    .dataframe tbody tr th:only-of-type {\n",
       "        vertical-align: middle;\n",
       "    }\n",
       "\n",
       "    .dataframe tbody tr th {\n",
       "        vertical-align: top;\n",
       "    }\n",
       "\n",
       "    .dataframe thead th {\n",
       "        text-align: right;\n",
       "    }\n",
       "</style>\n",
       "<table border=\"1\" class=\"dataframe\">\n",
       "  <thead>\n",
       "    <tr style=\"text-align: right;\">\n",
       "      <th></th>\n",
       "      <th>id</th>\n",
       "      <th>title</th>\n",
       "      <th>text</th>\n",
       "      <th>url</th>\n",
       "      <th>wiki_id</th>\n",
       "      <th>views</th>\n",
       "      <th>paragraph_id</th>\n",
       "      <th>langs</th>\n",
       "      <th>emb</th>\n",
       "    </tr>\n",
       "  </thead>\n",
       "  <tbody>\n",
       "    <tr>\n",
       "      <th>0</th>\n",
       "      <td>0</td>\n",
       "      <td>24-hour clock</td>\n",
       "      <td>The 24-hour clock is a way of telling the time...</td>\n",
       "      <td>https://simple.wikipedia.org/wiki?curid=9985</td>\n",
       "      <td>9985</td>\n",
       "      <td>2450.625488</td>\n",
       "      <td>0</td>\n",
       "      <td>30</td>\n",
       "      <td>[0.07711287587881088, 0.3197174072265625, -0.2...</td>\n",
       "    </tr>\n",
       "    <tr>\n",
       "      <th>1</th>\n",
       "      <td>14</td>\n",
       "      <td>The Dark Knight Trilogy</td>\n",
       "      <td>The \"Dark Knight\" Series is a set of three Chr...</td>\n",
       "      <td>https://simple.wikipedia.org/wiki?curid=377304</td>\n",
       "      <td>377304</td>\n",
       "      <td>1897.982666</td>\n",
       "      <td>0</td>\n",
       "      <td>13</td>\n",
       "      <td>[0.2566547989845276, -0.17023412883281708, 0.1...</td>\n",
       "    </tr>\n",
       "    <tr>\n",
       "      <th>2</th>\n",
       "      <td>19</td>\n",
       "      <td>Abella Danger</td>\n",
       "      <td>Abella Danger (born November 19, 1995) is an A...</td>\n",
       "      <td>https://simple.wikipedia.org/wiki?curid=797944</td>\n",
       "      <td>797944</td>\n",
       "      <td>1748.024170</td>\n",
       "      <td>0</td>\n",
       "      <td>30</td>\n",
       "      <td>[-0.20083625614643097, -0.14190533757209778, -...</td>\n",
       "    </tr>\n",
       "    <tr>\n",
       "      <th>3</th>\n",
       "      <td>24</td>\n",
       "      <td>Cristiano Ronaldo</td>\n",
       "      <td>Cristiano Ronaldo dos Santos Aveiro (born 5 Fe...</td>\n",
       "      <td>https://simple.wikipedia.org/wiki?curid=65655</td>\n",
       "      <td>65655</td>\n",
       "      <td>1564.210449</td>\n",
       "      <td>0</td>\n",
       "      <td>156</td>\n",
       "      <td>[-0.4638298451900482, -0.0351627953350544, 0.7...</td>\n",
       "    </tr>\n",
       "    <tr>\n",
       "      <th>4</th>\n",
       "      <td>61</td>\n",
       "      <td>Carles Puigdemont</td>\n",
       "      <td>Carles Puigdemont i Casamajó (born 29 December...</td>\n",
       "      <td>https://simple.wikipedia.org/wiki?curid=540154</td>\n",
       "      <td>540154</td>\n",
       "      <td>1542.519531</td>\n",
       "      <td>0</td>\n",
       "      <td>81</td>\n",
       "      <td>[-0.12089978903532028, 0.06191902980208397, 0....</td>\n",
       "    </tr>\n",
       "    <tr>\n",
       "      <th>...</th>\n",
       "      <td>...</td>\n",
       "      <td>...</td>\n",
       "      <td>...</td>\n",
       "      <td>...</td>\n",
       "      <td>...</td>\n",
       "      <td>...</td>\n",
       "      <td>...</td>\n",
       "      <td>...</td>\n",
       "      <td>...</td>\n",
       "    </tr>\n",
       "    <tr>\n",
       "      <th>1995</th>\n",
       "      <td>34633</td>\n",
       "      <td>1st century</td>\n",
       "      <td>During this period Europe, North Africa and th...</td>\n",
       "      <td>https://simple.wikipedia.org/wiki?curid=24589</td>\n",
       "      <td>24589</td>\n",
       "      <td>122.295425</td>\n",
       "      <td>0</td>\n",
       "      <td>133</td>\n",
       "      <td>[-0.33043625950813293, -0.234648197889328, -0....</td>\n",
       "    </tr>\n",
       "    <tr>\n",
       "      <th>1996</th>\n",
       "      <td>34653</td>\n",
       "      <td>Operation Restore Hope</td>\n",
       "      <td>The Operation Restore Hope was an operation of...</td>\n",
       "      <td>https://simple.wikipedia.org/wiki?curid=427200</td>\n",
       "      <td>427200</td>\n",
       "      <td>122.192032</td>\n",
       "      <td>0</td>\n",
       "      <td>12</td>\n",
       "      <td>[0.5195494294166565, -0.06794795393943787, 0.2...</td>\n",
       "    </tr>\n",
       "    <tr>\n",
       "      <th>1997</th>\n",
       "      <td>34655</td>\n",
       "      <td>Rumi</td>\n",
       "      <td>Jalal ad-Din Muhammad Rumi (30 September 1207 ...</td>\n",
       "      <td>https://simple.wikipedia.org/wiki?curid=64995</td>\n",
       "      <td>64995</td>\n",
       "      <td>122.192032</td>\n",
       "      <td>0</td>\n",
       "      <td>101</td>\n",
       "      <td>[-0.254226416349411, 0.6597043871879578, -0.00...</td>\n",
       "    </tr>\n",
       "    <tr>\n",
       "      <th>1998</th>\n",
       "      <td>34669</td>\n",
       "      <td>Korean War</td>\n",
       "      <td>The Korean War (Korean: 한국전잴, Russian: Корейск...</td>\n",
       "      <td>https://simple.wikipedia.org/wiki?curid=7537</td>\n",
       "      <td>7537</td>\n",
       "      <td>122.175140</td>\n",
       "      <td>0</td>\n",
       "      <td>120</td>\n",
       "      <td>[0.22879508137702942, -0.1242295652627945, -0....</td>\n",
       "    </tr>\n",
       "    <tr>\n",
       "      <th>1999</th>\n",
       "      <td>34678</td>\n",
       "      <td>The Undertaker</td>\n",
       "      <td>Mark William Calaway (born March 24, 1965) is ...</td>\n",
       "      <td>https://simple.wikipedia.org/wiki?curid=88399</td>\n",
       "      <td>88399</td>\n",
       "      <td>122.089157</td>\n",
       "      <td>0</td>\n",
       "      <td>56</td>\n",
       "      <td>[-0.42640161514282227, -0.5116367340087891, 0....</td>\n",
       "    </tr>\n",
       "  </tbody>\n",
       "</table>\n",
       "<p>2000 rows × 9 columns</p>\n",
       "</div>"
      ],
      "text/plain": [
       "         id                    title  \\\n",
       "0         0            24-hour clock   \n",
       "1        14  The Dark Knight Trilogy   \n",
       "2        19            Abella Danger   \n",
       "3        24        Cristiano Ronaldo   \n",
       "4        61        Carles Puigdemont   \n",
       "...     ...                      ...   \n",
       "1995  34633              1st century   \n",
       "1996  34653   Operation Restore Hope   \n",
       "1997  34655                     Rumi   \n",
       "1998  34669               Korean War   \n",
       "1999  34678           The Undertaker   \n",
       "\n",
       "                                                   text  \\\n",
       "0     The 24-hour clock is a way of telling the time...   \n",
       "1     The \"Dark Knight\" Series is a set of three Chr...   \n",
       "2     Abella Danger (born November 19, 1995) is an A...   \n",
       "3     Cristiano Ronaldo dos Santos Aveiro (born 5 Fe...   \n",
       "4     Carles Puigdemont i Casamajó (born 29 December...   \n",
       "...                                                 ...   \n",
       "1995  During this period Europe, North Africa and th...   \n",
       "1996  The Operation Restore Hope was an operation of...   \n",
       "1997  Jalal ad-Din Muhammad Rumi (30 September 1207 ...   \n",
       "1998  The Korean War (Korean: 한국전잴, Russian: Корейск...   \n",
       "1999  Mark William Calaway (born March 24, 1965) is ...   \n",
       "\n",
       "                                                 url  wiki_id        views  \\\n",
       "0       https://simple.wikipedia.org/wiki?curid=9985     9985  2450.625488   \n",
       "1     https://simple.wikipedia.org/wiki?curid=377304   377304  1897.982666   \n",
       "2     https://simple.wikipedia.org/wiki?curid=797944   797944  1748.024170   \n",
       "3      https://simple.wikipedia.org/wiki?curid=65655    65655  1564.210449   \n",
       "4     https://simple.wikipedia.org/wiki?curid=540154   540154  1542.519531   \n",
       "...                                              ...      ...          ...   \n",
       "1995   https://simple.wikipedia.org/wiki?curid=24589    24589   122.295425   \n",
       "1996  https://simple.wikipedia.org/wiki?curid=427200   427200   122.192032   \n",
       "1997   https://simple.wikipedia.org/wiki?curid=64995    64995   122.192032   \n",
       "1998    https://simple.wikipedia.org/wiki?curid=7537     7537   122.175140   \n",
       "1999   https://simple.wikipedia.org/wiki?curid=88399    88399   122.089157   \n",
       "\n",
       "      paragraph_id  langs                                                emb  \n",
       "0                0     30  [0.07711287587881088, 0.3197174072265625, -0.2...  \n",
       "1                0     13  [0.2566547989845276, -0.17023412883281708, 0.1...  \n",
       "2                0     30  [-0.20083625614643097, -0.14190533757209778, -...  \n",
       "3                0    156  [-0.4638298451900482, -0.0351627953350544, 0.7...  \n",
       "4                0     81  [-0.12089978903532028, 0.06191902980208397, 0....  \n",
       "...            ...    ...                                                ...  \n",
       "1995             0    133  [-0.33043625950813293, -0.234648197889328, -0....  \n",
       "1996             0     12  [0.5195494294166565, -0.06794795393943787, 0.2...  \n",
       "1997             0    101  [-0.254226416349411, 0.6597043871879578, -0.00...  \n",
       "1998             0    120  [0.22879508137702942, -0.1242295652627945, -0....  \n",
       "1999             0     56  [-0.42640161514282227, -0.5116367340087891, 0....  \n",
       "\n",
       "[2000 rows x 9 columns]"
      ]
     },
     "execution_count": 15,
     "metadata": {},
     "output_type": "execute_result"
    }
   ],
   "source": [
    "import pandas as pd\n",
    "wiki_articles = pd.read_pickle('wikipedia.pkl')\n",
    "wiki_articles"
   ]
  },
  {
   "cell_type": "code",
   "execution_count": 16,
   "id": "e9bde94a",
   "metadata": {
    "height": 47
   },
   "outputs": [],
   "source": [
    "import numpy as np\n",
    "from utils import umap_plot_big"
   ]
  },
  {
   "cell_type": "code",
   "execution_count": null,
   "id": "874cf116",
   "metadata": {
    "height": 98
   },
   "outputs": [],
   "source": [
    "articles = wiki_articles[['title', 'text']]\n",
    "embeds = np.array([d for d in wiki_articles['emb']])\n",
    "\n",
    "chart = umap_plot_big(articles, embeds)\n",
    "chart.interactive()"
   ]
  },
  {
   "cell_type": "code",
   "execution_count": null,
   "id": "387c8901",
   "metadata": {
    "height": 30
   },
   "outputs": [],
   "source": []
  },
  {
   "cell_type": "code",
   "execution_count": null,
   "id": "cc3c9b2d",
   "metadata": {
    "height": 30
   },
   "outputs": [],
   "source": []
  },
  {
   "cell_type": "code",
   "execution_count": null,
   "id": "d8b338c7",
   "metadata": {
    "height": 30
   },
   "outputs": [],
   "source": []
  },
  {
   "cell_type": "code",
   "execution_count": null,
   "id": "b9e30d7b",
   "metadata": {
    "height": 30
   },
   "outputs": [],
   "source": []
  },
  {
   "cell_type": "code",
   "execution_count": null,
   "id": "ec708a6b",
   "metadata": {
    "height": 30
   },
   "outputs": [],
   "source": []
  }
 ],
 "metadata": {
  "kernelspec": {
   "display_name": "Python 3 (ipykernel)",
   "language": "python",
   "name": "python3"
  },
  "language_info": {
   "codemirror_mode": {
    "name": "ipython",
    "version": 3
   },
   "file_extension": ".py",
   "mimetype": "text/x-python",
   "name": "python",
   "nbconvert_exporter": "python",
   "pygments_lexer": "ipython3",
   "version": "3.9.17"
  }
 },
 "nbformat": 4,
 "nbformat_minor": 5
}
